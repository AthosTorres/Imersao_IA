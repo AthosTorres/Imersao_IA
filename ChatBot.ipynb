{
  "nbformat": 4,
  "nbformat_minor": 0,
  "metadata": {
    "colab": {
      "provenance": [],
      "authorship_tag": "ABX9TyNDk+8VVw730dU0+Pi2ch4O",
      "include_colab_link": true
    },
    "kernelspec": {
      "name": "python3",
      "display_name": "Python 3"
    },
    "language_info": {
      "name": "python"
    }
  },
  "cells": [
    {
      "cell_type": "markdown",
      "metadata": {
        "id": "view-in-github",
        "colab_type": "text"
      },
      "source": [
        "<a href=\"https://colab.research.google.com/github/AthosTorres/Imersao_IA/blob/main/ChatBot.ipynb\" target=\"_parent\"><img src=\"https://colab.research.google.com/assets/colab-badge.svg\" alt=\"Open In Colab\"/></a>"
      ]
    },
    {
      "cell_type": "markdown",
      "source": [
        "Instalando o SDK do Google"
      ],
      "metadata": {
        "id": "A0qw52amo_El"
      }
    },
    {
      "cell_type": "code",
      "execution_count": 46,
      "metadata": {
        "id": "uIjYlEVnoWSW"
      },
      "outputs": [],
      "source": [
        "!pip install -q -U google-generativeai"
      ]
    },
    {
      "cell_type": "code",
      "source": [
        "# Import the Python SDK\n",
        "import google.generativeai as genai\n",
        "from google.colab import userdata\n",
        "api_key = userdata.get('SECRET_KEY')\n",
        "genai.configure(api_key=api_key)"
      ],
      "metadata": {
        "id": "6wxJlkbqohuc"
      },
      "execution_count": 47,
      "outputs": []
    },
    {
      "cell_type": "markdown",
      "source": [
        "Listar os modelos disponíveis"
      ],
      "metadata": {
        "id": "Sx_7kt0So1ed"
      }
    },
    {
      "cell_type": "code",
      "source": [
        "for m in genai.list_models():\n",
        "  if 'generateContent' in m.supported_generation_methods:\n",
        "    print(m.name)"
      ],
      "metadata": {
        "colab": {
          "base_uri": "https://localhost:8080/",
          "height": 139
        },
        "id": "sC98fLPJpI0K",
        "outputId": "132002fa-1c3f-4a77-ed53-79ae5fe305a4"
      },
      "execution_count": 48,
      "outputs": [
        {
          "output_type": "stream",
          "name": "stdout",
          "text": [
            "models/gemini-1.0-pro\n",
            "models/gemini-1.0-pro-001\n",
            "models/gemini-1.0-pro-latest\n",
            "models/gemini-1.0-pro-vision-latest\n",
            "models/gemini-1.5-pro-latest\n",
            "models/gemini-pro\n",
            "models/gemini-pro-vision\n"
          ]
        }
      ]
    },
    {
      "cell_type": "code",
      "source": [
        "generation_config = {\n",
        "    \"candidate_count\": 1,\n",
        "    \"temperature\": 0.5,\n",
        "}"
      ],
      "metadata": {
        "id": "wYyRvdiB62Hj"
      },
      "execution_count": 49,
      "outputs": []
    },
    {
      "cell_type": "code",
      "source": [
        "safety_settings = {\n",
        "    \"HARASSMENT\": \"BLOCK_NONE\",\n",
        "    \"HATE\": \"BLOCK_NONE\",\n",
        "    \"SEXUAL\": \"BLOCK_NONE\",\n",
        "    \"DANGEROUS\": \"BLOCK_NONE\",\n",
        "}"
      ],
      "metadata": {
        "id": "4vFlkzQL7d0V"
      },
      "execution_count": 50,
      "outputs": []
    },
    {
      "cell_type": "markdown",
      "source": [
        "Iniciando o modelo"
      ],
      "metadata": {
        "id": "L34nPGJ18jFV"
      }
    },
    {
      "cell_type": "code",
      "source": [
        "model = genai.GenerativeModel(model_name=\"gemini-1.0-pro\",\n",
        "                              generation_config=generation_config,\n",
        "                              safety_settings=safety_settings)"
      ],
      "metadata": {
        "id": "E80Czo-A8iCP"
      },
      "execution_count": 51,
      "outputs": []
    },
    {
      "cell_type": "code",
      "source": [
        "response = model.generate_content(\"Vamos aprender conteúdo sobre IA. Me dê sugestões.\")\n",
        "print(response.text)"
      ],
      "metadata": {
        "colab": {
          "base_uri": "https://localhost:8080/",
          "height": 746
        },
        "id": "AtGsQY8P9Pvv",
        "outputId": "fa36cd08-be9b-4072-9728-0aadd22ac11f"
      },
      "execution_count": 52,
      "outputs": [
        {
          "output_type": "stream",
          "name": "stdout",
          "text": [
            "**Introdução à IA**\n",
            "\n",
            "* Definição e histórico da IA\n",
            "* Tipos de IA (estreita, geral, superinteligente)\n",
            "* Aplicações da IA em vários setores\n",
            "\n",
            "**Aprendizado de Máquina**\n",
            "\n",
            "* Algoritmos de aprendizado supervisionado, não supervisionado e por reforço\n",
            "* Técnicas de pré-processamento e seleção de recursos\n",
            "* Avaliação de modelos de aprendizado de máquina\n",
            "\n",
            "**Aprendizado Profundo**\n",
            "\n",
            "* Redes neurais, convolucionais e recorrentes\n",
            "* Arquiteturas de redes neurais populares (por exemplo, CNNs, RNNs, Transformers)\n",
            "* Treinamento e otimização de modelos de aprendizado profundo\n",
            "\n",
            "**Processamento de Linguagem Natural (PNL)**\n",
            "\n",
            "* Fundamentos da PNL, incluindo tokenização, análise sintática e semântica\n",
            "* Modelos de linguagem, como BERT e GPT-3\n",
            "* Aplicações da PNL, como tradução automática e geração de texto\n",
            "\n",
            "**Visão Computacional**\n",
            "\n",
            "* Técnicas de processamento de imagem e reconhecimento de padrões\n",
            "* Redes neurais convolucionais (CNNs) para reconhecimento de objetos\n",
            "* Aplicações da visão computacional, como reconhecimento facial e veículos autônomos\n",
            "\n",
            "**Ética e Implicações da IA**\n",
            "\n",
            "* Viés e discriminação em sistemas de IA\n",
            "* Privacidade e segurança de dados\n",
            "* Implicações sociais e econômicas da IA\n",
            "\n",
            "**Recursos de Aprendizagem**\n",
            "\n",
            "* Cursos online (Coursera, edX, Udemy)\n",
            "* Tutoriais e documentação (TensorFlow, PyTorch, Keras)\n",
            "* Livros e artigos de pesquisa\n",
            "* Comunidades e fóruns online (Reddit, Stack Overflow)\n"
          ]
        }
      ]
    },
    {
      "cell_type": "code",
      "source": [
        "chat = model.start_chat(history=[])"
      ],
      "metadata": {
        "id": "-NojPC2wAnYL"
      },
      "execution_count": 53,
      "outputs": []
    },
    {
      "cell_type": "code",
      "source": [
        "prompt = input(\"Esperando prompt: \")\n",
        "while prompt != \"fim\":\n",
        "  response = chat.send_message(prompt)\n",
        "  print(\"Resposta: \", response.text, \"\\n\")\n",
        "  prompt = input(\"Esperando prompt: \")"
      ],
      "metadata": {
        "colab": {
          "base_uri": "https://localhost:8080/",
          "height": 86
        },
        "id": "pBH4hkiJBP4K",
        "outputId": "fb53a6f4-a3d8-4df9-82c1-7edcc7fe693b"
      },
      "execution_count": 54,
      "outputs": [
        {
          "name": "stdout",
          "output_type": "stream",
          "text": [
            "Esperando prompt: Qual o país do futebol?\n",
            "Resposta:  Brasil \n",
            "\n",
            "Esperando prompt: fim\n"
          ]
        }
      ]
    },
    {
      "cell_type": "code",
      "source": [],
      "metadata": {
        "id": "NlIhVdgnCo4x"
      },
      "execution_count": null,
      "outputs": []
    }
  ]
}